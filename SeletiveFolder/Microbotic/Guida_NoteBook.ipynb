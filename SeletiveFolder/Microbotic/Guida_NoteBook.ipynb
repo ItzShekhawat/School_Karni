{
 "cells": [
  {
   "cell_type": "code",
   "execution_count": null,
   "metadata": {},
   "outputs": [],
   "source": [
    "print(\"Hello world\")"
   ]
  },
  {
   "cell_type": "markdown",
   "metadata": {},
   "source": [
    "# Formattazione del testo con Markdown\n",
    "\n",
    "L'effetto dei comandi di formattazione si applica a tutta la riga o al testo compreso tra i marcatori\n",
    "## Titolo\n",
    "Per i titoli mettere # header1 ## header2 ### header3 così dino a 6.\n",
    "\n",
    "Doppio invio per separare i paragrafi. Digitare 2 spazi alla fine della riga  \n",
    "per fare andare a capo senza riga vuota.\n",
    "\n",
    "Usare * o _ per il *corsivo*, ** per il **grassetto**, * * * o _ _ _ per il ***grasetto corsivo*** , doppia tilde per il "
   ]
  },
  {
   "cell_type": "markdown",
   "metadata": {},
   "source": [
    "**Ricordarsi di separare le varie parti con una riga vuota altrimenti potrebberno nono formattarsi correttamente**\n",
    "## Le liste\n",
    "### Numerate\n"
   ]
  }
 ],
 "metadata": {
  "kernelspec": {
   "display_name": "Python 3",
   "language": "python",
   "name": "python3"
  },
  "language_info": {
   "codemirror_mode": {
    "name": "ipython",
    "version": 3
   },
   "file_extension": ".py",
   "mimetype": "text/x-python",
   "name": "python",
   "nbconvert_exporter": "python",
   "pygments_lexer": "ipython3",
   "version": "3.8.5"
  }
 },
 "nbformat": 4,
 "nbformat_minor": 4
}
