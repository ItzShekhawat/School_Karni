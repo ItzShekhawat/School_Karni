{
 "cells": [
  {
   "cell_type": "markdown",
   "id": "metallic-finnish",
   "metadata": {},
   "source": [
    "In riferimento all'esecizio della centalina ambientale montata nel parco della scuola \n",
    " - Ripilire i dati valori errati e calcolare media, massimo e minimo.\n",
    " - Individuare se ci sono due dati errari in finestre di massimo 5 misurazioni consecutive e in tal caso segnalare che la centralina deve essere mandata in riparazione. "
   ]
  },
  {
   "cell_type": "code",
   "execution_count": null,
   "id": "worth-headset",
   "metadata": {},
   "outputs": [],
   "source": []
  },
  {
   "cell_type": "code",
   "execution_count": null,
   "id": "handy-operator",
   "metadata": {},
   "outputs": [],
   "source": []
  }
 ],
 "metadata": {
  "kernelspec": {
   "display_name": "Python 3",
   "language": "python",
   "name": "python3"
  },
  "language_info": {
   "codemirror_mode": {
    "name": "ipython",
    "version": 3
   },
   "file_extension": ".py",
   "mimetype": "text/x-python",
   "name": "python",
   "nbconvert_exporter": "python",
   "pygments_lexer": "ipython3",
   "version": "3.8.5"
  }
 },
 "nbformat": 4,
 "nbformat_minor": 5
}
