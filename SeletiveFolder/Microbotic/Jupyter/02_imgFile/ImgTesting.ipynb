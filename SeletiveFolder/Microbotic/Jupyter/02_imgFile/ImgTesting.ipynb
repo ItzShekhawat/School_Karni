{
 "cells": [
  {
   "cell_type": "code",
   "execution_count": 1,
   "id": "continuing-welding",
   "metadata": {},
   "outputs": [],
   "source": [
    "import cv2 as cv\n",
    "import numpy as np\n",
    "\n",
    "# setting \n",
    "img_width = 200\n",
    "img_height = 100\n",
    "rect_width = 100\n",
    "rect_height = 50\n",
    "\n",
    "# black img with all 0(zero)\n",
    "img = np.zeros((img_height, img_width,3), np.uint8)\n",
    "img.fill(255)\n",
    "\n",
    "\n",
    "x = (img_height - rect_height) // 2 \n",
    "y = (img_width - rect_width) // 2 \n",
    "img[x : x + rect_height, y : y + rect_width] = [0,0,255]\n",
    "\n",
    "img[0:5,0:img_width] = [255,0,0]\n",
    "img[0:img_height, -4:] = [0,255,255]\n",
    "img[-4: ,0:img_width] = [0,255,0]\n",
    "img[5:img_height, 0:5] = [255,0,255]\n",
    "\n",
    "\n",
    "\n",
    "\n",
    "cv.imshow('Image', img)\n",
    "cv.imwrite('rectangle.png', img)\n",
    "cv.waitKey(0)\n",
    "cv.destroyAllWindows()"
   ]
  },
  {
   "cell_type": "code",
   "execution_count": 20,
   "id": "higher-newsletter",
   "metadata": {},
   "outputs": [],
   "source": [
    "img = cv.imread('rectangle.png')\n",
    "img_light = img.copy()\n",
    "img_dark = img.copy()\n",
    "\n",
    "tot = 100\n",
    "# np.where(cond, iftrue, iffalse)\n",
    "#lighten\n",
    "img_light = np.where(img_light>=255-tot, 255, img_light+tot)\n",
    "#darken \n",
    "img_dark = np.where(img_dark<=tot, 0, img_dark-tot)\n",
    "\n",
    "cv.imshow('Image Light', img_light)\n",
    "cv.imshow('Image Dark', img_dark)\n",
    "cv.waitKey(0)\n",
    "cv.destroyAllWindows()\n"
   ]
  },
  {
   "cell_type": "code",
   "execution_count": 27,
   "id": "driving-rainbow",
   "metadata": {},
   "outputs": [],
   "source": [
    "# blacking out the background\n",
    "\n",
    "img = cv.imread('rectangle.png')\n",
    "black_img = img.copy()\n",
    "\n",
    "mask = np.all(black_img == [255,255,255], axis = 2)\n",
    "black_img[mask] = [0, 0, 0]\n",
    "\n",
    "cv.imshow('blackground.png', black_img)\n",
    "cv.waitKey(0)\n",
    "cv.destroyAllWindows()\n",
    "\n"
   ]
  },
  {
   "cell_type": "code",
   "execution_count": null,
   "id": "running-contrary",
   "metadata": {},
   "outputs": [],
   "source": []
  }
 ],
 "metadata": {
  "kernelspec": {
   "display_name": "Python 3",
   "language": "python",
   "name": "python3"
  },
  "language_info": {
   "codemirror_mode": {
    "name": "ipython",
    "version": 3
   },
   "file_extension": ".py",
   "mimetype": "text/x-python",
   "name": "python",
   "nbconvert_exporter": "python",
   "pygments_lexer": "ipython3",
   "version": "3.8.5-final"
  }
 },
 "nbformat": 4,
 "nbformat_minor": 5
}