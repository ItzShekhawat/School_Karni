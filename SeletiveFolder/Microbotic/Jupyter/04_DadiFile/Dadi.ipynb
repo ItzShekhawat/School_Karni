{
 "cells": [
  {
   "cell_type": "markdown",
   "id": "attended-testing",
   "metadata": {},
   "source": [
    "Due giocatori si affrontano in una partita a dadi.\n",
    "Ogni volta che un giorcatore ottiene un numero maggiore del suo revale guadagna un punto, mentre se\n",
    "entrambi i giocatori ottengolo lo stesso numero, guadagnano mezzo punto ciascuno.\n",
    "\n",
    "- Simulare una partita di 1000 lanci e rigistra i dati di 10 partite. \n",
    "- Dado truccato con maggiore probalibiltà di 5-6, ci si può accorgere ? \n",
    "\n"
   ]
  },
  {
   "source": [
    "import numpy as np\n",
    "\n",
    "\n",
    "nLanci = 1000 # Per partita\n",
    "puntiG1 = 0\n",
    "puntiG2 = 0\n",
    "p1 = 0\n",
    "p2 = 0\n",
    "\n",
    "a = np.random.randint(1,6, (10, 1000))\n",
    "print(a)"
   ],
   "cell_type": "code",
   "metadata": {},
   "execution_count": 8,
   "outputs": [
    {
     "output_type": "stream",
     "name": "stdout",
     "text": [
      "[[2 3 4 ... 4 3 3]\n [3 5 1 ... 3 1 1]\n [2 2 2 ... 2 4 5]\n ...\n [2 2 1 ... 2 2 5]\n [5 2 3 ... 4 2 3]\n [5 1 5 ... 1 5 1]]\n"
     ]
    }
   ]
  },
  {
   "cell_type": "code",
   "execution_count": 9,
   "metadata": {
    "tags": []
   },
   "outputs": [
    {
     "output_type": "stream",
     "name": "stdout",
     "text": [
      "4982.5\n\n\n5007.5\n"
     ]
    }
   ],
   "source": [
    "for line in a:\n",
    "    for pos in range(len(line)-1) : \n",
    "        if line[pos] > line[pos+1]:\n",
    "            puntiG1 += 1\n",
    "        elif line[pos] == line[pos+1]:\n",
    "            puntiG1 += 0.5\n",
    "            puntiG2 += 0.5\n",
    "        else:\n",
    "            puntiG2 += 1\n",
    "        \n",
    "print (puntiG1)\n",
    "print(\"\\n\")\n",
    "print(puntiG2)"
   ]
  },
  {
   "cell_type": "code",
   "execution_count": null,
   "metadata": {},
   "outputs": [],
   "source": [
    "import numpy as np\n",
    "\n",
    "lanci = 1000\n",
    "p1_array = np.cum"
   ]
  }
 ],
 "metadata": {
  "kernelspec": {
   "display_name": "Python 3",
   "language": "python",
   "name": "python3"
  },
  "language_info": {
   "codemirror_mode": {
    "name": "ipython",
    "version": 3
   },
   "file_extension": ".py",
   "mimetype": "text/x-python",
   "name": "python",
   "nbconvert_exporter": "python",
   "pygments_lexer": "ipython3",
   "version": "3.8.5-final"
  }
 },
 "nbformat": 4,
 "nbformat_minor": 5
}